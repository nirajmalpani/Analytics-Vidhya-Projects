{
 "cells": [
  {
   "cell_type": "code",
   "execution_count": 1,
   "metadata": {},
   "outputs": [],
   "source": [
    "import pandas as pd\n",
    "import numpy as np\n",
    "import matplotlib.pyplot as plt"
   ]
  },
  {
   "cell_type": "code",
   "execution_count": 6,
   "metadata": {},
   "outputs": [],
   "source": [
    "train = pd.read_csv('Train_aBjfeNk.csv')\n",
    "test = pd.read_csv('Test_LqhgPWU.csv')\n"
   ]
  },
  {
   "cell_type": "code",
   "execution_count": 7,
   "metadata": {},
   "outputs": [],
   "source": [
    "label = train['Segmentation']\n",
    "train = train.drop(['Segmentation'], axis=1)"
   ]
  },
  {
   "cell_type": "code",
   "execution_count": 8,
   "metadata": {},
   "outputs": [
    {
     "name": "stdout",
     "output_type": "stream",
     "text": [
      "(8068, 10)\n",
      "(2627, 10)\n"
     ]
    }
   ],
   "source": [
    "print(train.shape)\n",
    "print(test.shape)"
   ]
  },
  {
   "cell_type": "code",
   "execution_count": 9,
   "metadata": {},
   "outputs": [
    {
     "data": {
      "text/plain": [
       "ID                 8068\n",
       "Gender                2\n",
       "Ever_Married          2\n",
       "Age                  67\n",
       "Graduated             2\n",
       "Profession            9\n",
       "Work_Experience      15\n",
       "Spending_Score        3\n",
       "Family_Size           9\n",
       "Var_1                 7\n",
       "dtype: int64"
      ]
     },
     "execution_count": 9,
     "metadata": {},
     "output_type": "execute_result"
    }
   ],
   "source": [
    "train.nunique()"
   ]
  },
  {
   "cell_type": "code",
   "execution_count": 11,
   "metadata": {},
   "outputs": [
    {
     "data": {
      "text/plain": [
       "ID                   0\n",
       "Gender               0\n",
       "Ever_Married       140\n",
       "Age                  0\n",
       "Graduated           78\n",
       "Profession         124\n",
       "Work_Experience    829\n",
       "Spending_Score       0\n",
       "Family_Size        335\n",
       "Var_1               76\n",
       "dtype: int64"
      ]
     },
     "execution_count": 11,
     "metadata": {},
     "output_type": "execute_result"
    }
   ],
   "source": [
    "train.isnull().sum()"
   ]
  },
  {
   "cell_type": "code",
   "execution_count": 12,
   "metadata": {},
   "outputs": [],
   "source": [
    "train.Var_1.fillna('Cat_10', inplace=True)\n",
    "train.Var_1 = train['Var_1'].apply(lambda x:int(str(x).split('_')[1]))\n",
    "\n",
    "test.Var_1.fillna('Cat_10', inplace=True)\n",
    "test.Var_1 = test['Var_1'].apply(lambda x:int(str(x).split('_')[1]))"
   ]
  },
  {
   "cell_type": "code",
   "execution_count": 13,
   "metadata": {},
   "outputs": [],
   "source": [
    "Profession = {\n",
    "    'Healthcare':0,\n",
    "    'Engineer':1,\n",
    "    'Lawyer':2,\n",
    "    'Entertainment':3,\n",
    "    'Artist':4,\n",
    "    'Executive':5,\n",
    "    'Doctor':6,\n",
    "    'Homemaker':7,\n",
    "    'Marketing':8,\n",
    "    np.nan:10\n",
    "}\n",
    "Gender = {\n",
    "    'Male':0,\n",
    "    'Female':1,\n",
    "    np.nan:10\n",
    "}\n",
    "Ever_Married = {\n",
    "    'Yes':0,\n",
    "    'No':1,\n",
    "    np.nan:10\n",
    "}\n",
    "Graduated = {\n",
    "    'Yes':0,\n",
    "    'No':1,\n",
    "    np.nan:10\n",
    "}\n",
    "Spending_Score = {\n",
    "    'Low':0,\n",
    "    'Average':1,\n",
    "    'High':2,\n",
    "    np.nan:10\n",
    "}\n",
    "to_change = [Gender, Ever_Married, Graduated, Spending_Score, Profession] \n",
    "\n",
    "for i in to_change:\n",
    "  train = train.replace(i)\n",
    "  test = test.replace(i)"
   ]
  },
  {
   "cell_type": "code",
   "execution_count": 14,
   "metadata": {},
   "outputs": [
    {
     "data": {
      "text/plain": [
       "ID                 0\n",
       "Gender             0\n",
       "Ever_Married       0\n",
       "Age                0\n",
       "Graduated          0\n",
       "Profession         0\n",
       "Work_Experience    0\n",
       "Spending_Score     0\n",
       "Family_Size        0\n",
       "Var_1              0\n",
       "dtype: int64"
      ]
     },
     "execution_count": 14,
     "metadata": {},
     "output_type": "execute_result"
    }
   ],
   "source": [
    "test.isna().sum()"
   ]
  },
  {
   "cell_type": "code",
   "execution_count": 15,
   "metadata": {},
   "outputs": [
    {
     "data": {
      "text/plain": [
       "ID                 0\n",
       "Gender             0\n",
       "Ever_Married       0\n",
       "Age                0\n",
       "Graduated          0\n",
       "Profession         0\n",
       "Work_Experience    0\n",
       "Spending_Score     0\n",
       "Family_Size        0\n",
       "Var_1              0\n",
       "dtype: int64"
      ]
     },
     "execution_count": 15,
     "metadata": {},
     "output_type": "execute_result"
    }
   ],
   "source": [
    "train.isnull().sum()"
   ]
  },
  {
   "cell_type": "code",
   "execution_count": 16,
   "metadata": {},
   "outputs": [],
   "source": [
    "train = train.replace({10:np.nan})\n",
    "test = test.replace({10:np.nan})"
   ]
  },
  {
   "cell_type": "code",
   "execution_count": 19,
   "metadata": {},
   "outputs": [
    {
     "name": "stderr",
     "output_type": "stream",
     "text": [
      "Using TensorFlow backend.\n"
     ]
    },
    {
     "name": "stdout",
     "output_type": "stream",
     "text": [
      "Imputing row 1/8068 with 0 missing, elapsed time: 10.131\n",
      "Imputing row 101/8068 with 0 missing, elapsed time: 10.152\n",
      "Imputing row 201/8068 with 0 missing, elapsed time: 10.156\n",
      "Imputing row 301/8068 with 1 missing, elapsed time: 10.163\n",
      "Imputing row 401/8068 with 0 missing, elapsed time: 10.169\n",
      "Imputing row 501/8068 with 0 missing, elapsed time: 10.175\n",
      "Imputing row 601/8068 with 0 missing, elapsed time: 10.182\n",
      "Imputing row 701/8068 with 0 missing, elapsed time: 10.189\n",
      "Imputing row 801/8068 with 0 missing, elapsed time: 10.195\n",
      "Imputing row 901/8068 with 0 missing, elapsed time: 10.201\n",
      "Imputing row 1001/8068 with 0 missing, elapsed time: 10.209\n",
      "Imputing row 1101/8068 with 0 missing, elapsed time: 10.214\n",
      "Imputing row 1201/8068 with 0 missing, elapsed time: 10.218\n",
      "Imputing row 1301/8068 with 0 missing, elapsed time: 10.221\n",
      "Imputing row 1401/8068 with 1 missing, elapsed time: 10.227\n",
      "Imputing row 1501/8068 with 0 missing, elapsed time: 10.233\n",
      "Imputing row 1601/8068 with 1 missing, elapsed time: 10.238\n",
      "Imputing row 1701/8068 with 0 missing, elapsed time: 10.244\n",
      "Imputing row 1801/8068 with 0 missing, elapsed time: 10.249\n",
      "Imputing row 1901/8068 with 1 missing, elapsed time: 10.253\n",
      "Imputing row 2001/8068 with 1 missing, elapsed time: 10.256\n",
      "Imputing row 2101/8068 with 0 missing, elapsed time: 10.264\n",
      "Imputing row 2201/8068 with 0 missing, elapsed time: 10.267\n",
      "Imputing row 2301/8068 with 0 missing, elapsed time: 10.273\n",
      "Imputing row 2401/8068 with 0 missing, elapsed time: 10.280\n",
      "Imputing row 2501/8068 with 0 missing, elapsed time: 10.282\n",
      "Imputing row 2601/8068 with 1 missing, elapsed time: 10.289\n",
      "Imputing row 2701/8068 with 0 missing, elapsed time: 10.296\n",
      "Imputing row 2801/8068 with 0 missing, elapsed time: 10.297\n",
      "Imputing row 2901/8068 with 1 missing, elapsed time: 10.304\n",
      "Imputing row 3001/8068 with 0 missing, elapsed time: 10.309\n",
      "Imputing row 3101/8068 with 0 missing, elapsed time: 10.317\n",
      "Imputing row 3201/8068 with 0 missing, elapsed time: 10.323\n",
      "Imputing row 3301/8068 with 0 missing, elapsed time: 10.330\n",
      "Imputing row 3401/8068 with 0 missing, elapsed time: 10.336\n",
      "Imputing row 3501/8068 with 1 missing, elapsed time: 10.338\n",
      "Imputing row 3601/8068 with 0 missing, elapsed time: 10.344\n",
      "Imputing row 3701/8068 with 0 missing, elapsed time: 10.347\n",
      "Imputing row 3801/8068 with 0 missing, elapsed time: 10.353\n",
      "Imputing row 3901/8068 with 0 missing, elapsed time: 10.363\n",
      "Imputing row 4001/8068 with 0 missing, elapsed time: 10.364\n",
      "Imputing row 4101/8068 with 0 missing, elapsed time: 10.371\n",
      "Imputing row 4201/8068 with 0 missing, elapsed time: 10.377\n",
      "Imputing row 4301/8068 with 0 missing, elapsed time: 10.381\n",
      "Imputing row 4401/8068 with 0 missing, elapsed time: 10.385\n",
      "Imputing row 4501/8068 with 0 missing, elapsed time: 10.397\n",
      "Imputing row 4601/8068 with 0 missing, elapsed time: 10.399\n",
      "Imputing row 4701/8068 with 2 missing, elapsed time: 10.405\n",
      "Imputing row 4801/8068 with 0 missing, elapsed time: 10.410\n",
      "Imputing row 4901/8068 with 0 missing, elapsed time: 10.412\n",
      "Imputing row 5001/8068 with 0 missing, elapsed time: 10.415\n",
      "Imputing row 5101/8068 with 0 missing, elapsed time: 10.419\n",
      "Imputing row 5201/8068 with 0 missing, elapsed time: 10.421\n",
      "Imputing row 5301/8068 with 0 missing, elapsed time: 10.426\n",
      "Imputing row 5401/8068 with 0 missing, elapsed time: 10.427\n",
      "Imputing row 5501/8068 with 0 missing, elapsed time: 10.431\n",
      "Imputing row 5601/8068 with 1 missing, elapsed time: 10.435\n",
      "Imputing row 5701/8068 with 0 missing, elapsed time: 10.437\n",
      "Imputing row 5801/8068 with 0 missing, elapsed time: 10.443\n",
      "Imputing row 5901/8068 with 0 missing, elapsed time: 10.448\n",
      "Imputing row 6001/8068 with 0 missing, elapsed time: 10.454\n",
      "Imputing row 6101/8068 with 0 missing, elapsed time: 10.459\n",
      "Imputing row 6201/8068 with 0 missing, elapsed time: 10.462\n",
      "Imputing row 6301/8068 with 0 missing, elapsed time: 10.468\n",
      "Imputing row 6401/8068 with 0 missing, elapsed time: 10.472\n",
      "Imputing row 6501/8068 with 1 missing, elapsed time: 10.478\n",
      "Imputing row 6601/8068 with 1 missing, elapsed time: 10.481\n",
      "Imputing row 6701/8068 with 1 missing, elapsed time: 10.487\n",
      "Imputing row 6801/8068 with 0 missing, elapsed time: 10.492\n",
      "Imputing row 6901/8068 with 0 missing, elapsed time: 10.498\n",
      "Imputing row 7001/8068 with 0 missing, elapsed time: 10.503\n",
      "Imputing row 7101/8068 with 0 missing, elapsed time: 10.509\n",
      "Imputing row 7201/8068 with 0 missing, elapsed time: 10.515\n",
      "Imputing row 7301/8068 with 1 missing, elapsed time: 10.520\n",
      "Imputing row 7401/8068 with 1 missing, elapsed time: 10.527\n",
      "Imputing row 7501/8068 with 0 missing, elapsed time: 10.532\n",
      "Imputing row 7601/8068 with 0 missing, elapsed time: 10.539\n",
      "Imputing row 7701/8068 with 0 missing, elapsed time: 10.546\n",
      "Imputing row 7801/8068 with 0 missing, elapsed time: 10.554\n",
      "Imputing row 7901/8068 with 0 missing, elapsed time: 10.557\n",
      "Imputing row 8001/8068 with 0 missing, elapsed time: 10.561\n",
      "Imputing row 1/2627 with 0 missing, elapsed time: 0.836\n",
      "Imputing row 101/2627 with 0 missing, elapsed time: 0.839\n",
      "Imputing row 201/2627 with 0 missing, elapsed time: 0.841\n",
      "Imputing row 301/2627 with 0 missing, elapsed time: 0.842\n",
      "Imputing row 401/2627 with 1 missing, elapsed time: 0.843\n",
      "Imputing row 501/2627 with 1 missing, elapsed time: 0.845\n",
      "Imputing row 601/2627 with 0 missing, elapsed time: 0.846\n",
      "Imputing row 701/2627 with 0 missing, elapsed time: 0.848\n",
      "Imputing row 801/2627 with 0 missing, elapsed time: 0.848\n",
      "Imputing row 901/2627 with 0 missing, elapsed time: 0.849\n",
      "Imputing row 1001/2627 with 0 missing, elapsed time: 0.850\n",
      "Imputing row 1101/2627 with 0 missing, elapsed time: 0.850\n",
      "Imputing row 1201/2627 with 1 missing, elapsed time: 0.852\n",
      "Imputing row 1301/2627 with 0 missing, elapsed time: 0.853\n",
      "Imputing row 1401/2627 with 0 missing, elapsed time: 0.855\n",
      "Imputing row 1501/2627 with 0 missing, elapsed time: 0.855\n",
      "Imputing row 1601/2627 with 0 missing, elapsed time: 0.856\n",
      "Imputing row 1701/2627 with 0 missing, elapsed time: 0.857\n",
      "Imputing row 1801/2627 with 0 missing, elapsed time: 0.858\n",
      "Imputing row 1901/2627 with 0 missing, elapsed time: 0.859\n",
      "Imputing row 2001/2627 with 0 missing, elapsed time: 0.860\n",
      "Imputing row 2101/2627 with 2 missing, elapsed time: 0.861\n",
      "Imputing row 2201/2627 with 0 missing, elapsed time: 0.862\n",
      "Imputing row 2301/2627 with 0 missing, elapsed time: 0.863\n",
      "Imputing row 2401/2627 with 1 missing, elapsed time: 0.864\n",
      "Imputing row 2501/2627 with 1 missing, elapsed time: 0.865\n",
      "Imputing row 2601/2627 with 0 missing, elapsed time: 0.866\n"
     ]
    }
   ],
   "source": [
    "from fancyimpute import KNN\n",
    "train = pd.DataFrame(KNN(k = 3).fit_transform(train), columns = test.columns)\n",
    "test = pd.DataFrame(KNN(k = 3).fit_transform(test), columns = test.columns)"
   ]
  },
  {
   "cell_type": "code",
   "execution_count": 20,
   "metadata": {},
   "outputs": [],
   "source": [
    "for i in train.columns:\n",
    "  train[i] = train[i].apply(lambda x: int(round(x)))\n",
    "  test[i] = test[i].apply(lambda x: int(round(x)))"
   ]
  },
  {
   "cell_type": "code",
   "execution_count": 21,
   "metadata": {},
   "outputs": [
    {
     "data": {
      "text/plain": [
       "ID                 int64\n",
       "Gender             int64\n",
       "Ever_Married       int64\n",
       "Age                int64\n",
       "Graduated          int64\n",
       "Profession         int64\n",
       "Work_Experience    int64\n",
       "Spending_Score     int64\n",
       "Family_Size        int64\n",
       "Var_1              int64\n",
       "dtype: object"
      ]
     },
     "execution_count": 21,
     "metadata": {},
     "output_type": "execute_result"
    }
   ],
   "source": [
    "train.dtypes"
   ]
  },
  {
   "cell_type": "code",
   "execution_count": 22,
   "metadata": {},
   "outputs": [],
   "source": [
    "y=label\n",
    "X=train.drop('ID',axis=1)"
   ]
  },
  {
   "cell_type": "code",
   "execution_count": 23,
   "metadata": {},
   "outputs": [],
   "source": [
    "from sklearn.model_selection import train_test_split\n",
    "from sklearn.metrics import accuracy_score\n"
   ]
  },
  {
   "cell_type": "code",
   "execution_count": 24,
   "metadata": {},
   "outputs": [],
   "source": [
    "X_train, X_test, y_train, y_test = train_test_split(X, y, test_size=0.2)"
   ]
  },
  {
   "cell_type": "code",
   "execution_count": 25,
   "metadata": {},
   "outputs": [],
   "source": [
    "from sklearn.model_selection import GridSearchCV\n",
    "from sklearn.model_selection import KFold\n",
    "from xgboost.sklearn import XGBClassifier"
   ]
  },
  {
   "cell_type": "code",
   "execution_count": 26,
   "metadata": {},
   "outputs": [],
   "source": [
    "grid = {\n",
    "        'min_child_weight': [1, 5, 10],\n",
    "        'gamma': [0.5, 1, 1.5, 2, 5],\n",
    "        'subsample': [0.6, 0.8, 1.0],\n",
    "        'colsample_bytree': [0.6, 0.8, 1.0],\n",
    "        'max_depth': [3, 4, 5]\n",
    "        }\n",
    "kf = KFold(n_splits=2)\n",
    "\n",
    "gs = GridSearchCV(estimator = XGBClassifier(n_estimators=500), param_grid = grid, scoring='accuracy',n_jobs=4, cv=kf)"
   ]
  },
  {
   "cell_type": "code",
   "execution_count": 27,
   "metadata": {},
   "outputs": [
    {
     "name": "stdout",
     "output_type": "stream",
     "text": [
      "Accuracy: 54.15%\n"
     ]
    }
   ],
   "source": [
    "gs.fit(X_train, y_train)\n",
    "\n",
    "y_pred = gs.predict(X_test)\n",
    "\n",
    "accuracy = accuracy_score(y_test, y_pred)\n",
    "print(\"Accuracy: %.2f%%\" % (accuracy * 100.0))"
   ]
  },
  {
   "cell_type": "code",
   "execution_count": 29,
   "metadata": {},
   "outputs": [
    {
     "data": {
      "text/plain": [
       "XGBClassifier(base_score=0.5, booster='gbtree', colsample_bylevel=1,\n",
       "              colsample_bynode=1, colsample_bytree=0.6, gamma=5, gpu_id=-1,\n",
       "              importance_type='gain', interaction_constraints='',\n",
       "              learning_rate=0.300000012, max_delta_step=0, max_depth=3,\n",
       "              min_child_weight=10, missing=nan, monotone_constraints='()',\n",
       "              n_estimators=500, n_jobs=0, num_parallel_tree=1,\n",
       "              objective='multi:softprob', random_state=0, reg_alpha=0,\n",
       "              reg_lambda=1, scale_pos_weight=None, subsample=0.8,\n",
       "              tree_method='exact', validate_parameters=1, verbosity=None)"
      ]
     },
     "execution_count": 29,
     "metadata": {},
     "output_type": "execute_result"
    }
   ],
   "source": [
    "gs.best_estimator_"
   ]
  },
  {
   "cell_type": "code",
   "execution_count": 30,
   "metadata": {},
   "outputs": [],
   "source": [
    "xgb = XGBClassifier(base_score=0.5, booster='gbtree', colsample_bylevel=1,\n",
    "              colsample_bynode=1, colsample_bytree=0.6, gamma=2,\n",
    "              learning_rate=0.1, max_delta_step=0, max_depth=4,\n",
    "              min_child_weight=1, missing=None, n_estimators=500, n_jobs=1,\n",
    "              nthread=None, objective='multi:softprob', random_state=0,\n",
    "              reg_alpha=0, reg_lambda=1, scale_pos_weight=1, seed=None,\n",
    "              silent=None, subsample=0.8, verbosity=1)"
   ]
  },
  {
   "cell_type": "code",
   "execution_count": 31,
   "metadata": {},
   "outputs": [
    {
     "name": "stdout",
     "output_type": "stream",
     "text": [
      "[23:33:37] WARNING: C:\\Users\\Administrator\\workspace\\xgboost-win64_release_1.1.0\\src\\learner.cc:480: \n",
      "Parameters: { scale_pos_weight } might not be used.\n",
      "\n",
      "  This may not be accurate due to some parameters are only used in language bindings but\n",
      "  passed down to XGBoost core.  Or some parameters are not used but slip through this\n",
      "  verification. Please open an issue if you find above cases.\n",
      "\n",
      "\n",
      "Accuracy: 54.34%\n"
     ]
    }
   ],
   "source": [
    "xgb.fit(X_train, y_train)\n",
    "\n",
    "y_pred = xgb.predict(X_test)\n",
    "\n",
    "accuracy = accuracy_score(y_test, y_pred)\n",
    "print(\"Accuracy: %.2f%%\" % (accuracy * 100.0))"
   ]
  },
  {
   "cell_type": "code",
   "execution_count": 32,
   "metadata": {},
   "outputs": [
    {
     "data": {
      "text/plain": [
       "Index(['Gender', 'Ever_Married', 'Age', 'Graduated', 'Profession',\n",
       "       'Work_Experience', 'Spending_Score', 'Family_Size', 'Var_1'],\n",
       "      dtype='object')"
      ]
     },
     "execution_count": 32,
     "metadata": {},
     "output_type": "execute_result"
    }
   ],
   "source": [
    "X_train.columns"
   ]
  },
  {
   "cell_type": "code",
   "execution_count": 33,
   "metadata": {},
   "outputs": [
    {
     "name": "stdout",
     "output_type": "stream",
     "text": [
      "Accuracy: 48.39%\n"
     ]
    }
   ],
   "source": [
    "from sklearn.ensemble import RandomForestClassifier\n",
    "clf_rf = RandomForestClassifier(\n",
    "    max_depth=2, \n",
    "    random_state=42,\n",
    "    n_estimators=100,\n",
    "    \n",
    ")\n",
    "\n",
    "clf_rf.fit(X_train, y_train)\n",
    "y_pred = clf_rf.predict(X_test)\n",
    "\n",
    "accuracy = accuracy_score(y_test, y_pred)\n",
    "print(\"Accuracy: %.2f%%\" % (accuracy * 100.0))"
   ]
  },
  {
   "cell_type": "code",
   "execution_count": null,
   "metadata": {},
   "outputs": [],
   "source": []
  },
  {
   "cell_type": "code",
   "execution_count": 34,
   "metadata": {},
   "outputs": [
    {
     "name": "stdout",
     "output_type": "stream",
     "text": [
      "[23:33:48] WARNING: C:\\Users\\Administrator\\workspace\\xgboost-win64_release_1.1.0\\src\\learner.cc:480: \n",
      "Parameters: { scale_pos_weight } might not be used.\n",
      "\n",
      "  This may not be accurate due to some parameters are only used in language bindings but\n",
      "  passed down to XGBoost core.  Or some parameters are not used but slip through this\n",
      "  verification. Please open an issue if you find above cases.\n",
      "\n",
      "\n"
     ]
    }
   ],
   "source": [
    "xgb.fit(X, y)\n",
    "\n",
    "predictions = xgb.predict(test.drop(['ID'], axis=1))"
   ]
  },
  {
   "cell_type": "code",
   "execution_count": 35,
   "metadata": {},
   "outputs": [],
   "source": [
    "submission = pd.DataFrame({\n",
    "    'ID':test['ID'],\n",
    "    'Segmentation':predictions\n",
    "    })"
   ]
  },
  {
   "cell_type": "code",
   "execution_count": 36,
   "metadata": {},
   "outputs": [],
   "source": [
    "submission.reset_index(inplace=True, drop=True)"
   ]
  },
  {
   "cell_type": "code",
   "execution_count": 37,
   "metadata": {},
   "outputs": [],
   "source": [
    "submission.to_csv('final.csv',index=False)"
   ]
  },
  {
   "cell_type": "code",
   "execution_count": null,
   "metadata": {},
   "outputs": [],
   "source": []
  }
 ],
 "metadata": {
  "kernelspec": {
   "display_name": "Python 3",
   "language": "python",
   "name": "python3"
  },
  "language_info": {
   "codemirror_mode": {
    "name": "ipython",
    "version": 3
   },
   "file_extension": ".py",
   "mimetype": "text/x-python",
   "name": "python",
   "nbconvert_exporter": "python",
   "pygments_lexer": "ipython3",
   "version": "3.7.7"
  }
 },
 "nbformat": 4,
 "nbformat_minor": 4
}
